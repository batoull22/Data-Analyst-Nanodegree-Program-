{
 "cells": [
  {
   "cell_type": "code",
   "execution_count": 5,
   "metadata": {
    "slideshow": {
     "slide_type": "slide"
    }
   },
   "outputs": [
    {
     "ename": "SyntaxError",
     "evalue": "invalid syntax (<ipython-input-5-98540f2d8298>, line 7)",
     "output_type": "error",
     "traceback": [
      "\u001b[0;36m  File \u001b[0;32m\"<ipython-input-5-98540f2d8298>\"\u001b[0;36m, line \u001b[0;32m7\u001b[0m\n\u001b[0;31m    > This document explores a dataset containing the trip data of the fordgo bike.\u001b[0m\n\u001b[0m    ^\u001b[0m\n\u001b[0;31mSyntaxError\u001b[0m\u001b[0;31m:\u001b[0m invalid syntax\n"
     ]
    }
   ],
   "source": [
    "# Analyzing Ford GoBike System Data\n",
    "\n",
    "## by batoul alosaimi\n",
    "\n",
    "## Preliminary Wrangling\n",
    "\n",
    "> This document explores a dataset containing the trip data of the fordgo bike.\n"
   ]
  },
  {
   "cell_type": "code",
   "execution_count": null,
   "metadata": {
    "slideshow": {
     "slide_type": "slide"
    }
   },
   "outputs": [],
   "source": [
    "# import all packages and set plots to be embedded inline\n",
    "import numpy as np\n",
    "import pandas as pd\n",
    "import matplotlib.pyplot as plt\n",
    "import seaborn as sb\n",
    "\n",
    "%matplotlib inline"
   ]
  },
  {
   "cell_type": "markdown",
   "metadata": {},
   "source": [
    "## Gathering data"
   ]
  },
  {
   "cell_type": "code",
   "execution_count": 6,
   "metadata": {
    "slideshow": {
     "slide_type": "subslide"
    }
   },
   "outputs": [
    {
     "ename": "NameError",
     "evalue": "name 'pd' is not defined",
     "output_type": "error",
     "traceback": [
      "\u001b[0;31m---------------------------------------------------------------------------\u001b[0m",
      "\u001b[0;31mNameError\u001b[0m                                 Traceback (most recent call last)",
      "\u001b[0;32m<ipython-input-6-092af73bbc09>\u001b[0m in \u001b[0;36m<module>\u001b[0;34m\u001b[0m\n\u001b[1;32m      1\u001b[0m \u001b[0;31m# load in the dataset into a pandas dataframe, print statistics\u001b[0m\u001b[0;34m\u001b[0m\u001b[0;34m\u001b[0m\u001b[0;34m\u001b[0m\u001b[0m\n\u001b[0;32m----> 2\u001b[0;31m \u001b[0mdf\u001b[0m \u001b[0;34m=\u001b[0m \u001b[0mpd\u001b[0m\u001b[0;34m.\u001b[0m\u001b[0mread_csv\u001b[0m\u001b[0;34m(\u001b[0m\u001b[0;34m'/Users/batoul/Desktop/fordgobike-tripdata.csv'\u001b[0m\u001b[0;34m)\u001b[0m\u001b[0;34m\u001b[0m\u001b[0;34m\u001b[0m\u001b[0m\n\u001b[0m",
      "\u001b[0;31mNameError\u001b[0m: name 'pd' is not defined"
     ]
    }
   ],
   "source": [
    "# load in the dataset into a pandas dataframe, print statistics\n",
    "df = pd.read_csv('/Users/batoul/Desktop/fordgobike-tripdata.csv')"
   ]
  },
  {
   "cell_type": "markdown",
   "metadata": {},
   "source": [
    "# Assessing Data"
   ]
  },
  {
   "cell_type": "code",
   "execution_count": null,
   "metadata": {
    "slideshow": {
     "slide_type": "slide"
    }
   },
   "outputs": [],
   "source": [
    "# high-level overview of data shape and composition\n",
    "print(df.shape)\n",
    "print(df.dtypes)\n",
    "print(df.head(10))"
   ]
  },
  {
   "cell_type": "code",
   "execution_count": null,
   "metadata": {
    "slideshow": {
     "slide_type": "slide"
    }
   },
   "outputs": [],
   "source": [
    "df.describe()"
   ]
  },
  {
   "cell_type": "code",
   "execution_count": null,
   "metadata": {
    "slideshow": {
     "slide_type": "slide"
    }
   },
   "outputs": [],
   "source": [
    "df.info()\n"
   ]
  },
  {
   "cell_type": "markdown",
   "metadata": {},
   "source": [
    "## Cleaning Data\n"
   ]
  },
  {
   "cell_type": "markdown",
   "metadata": {
    "slideshow": {
     "slide_type": "slide"
    }
   },
   "source": [
    "## Define\n"
   ]
  },
  {
   "cell_type": "markdown",
   "metadata": {
    "slideshow": {
     "slide_type": "subslide"
    }
   },
   "source": [
    "\n",
    "Change data types, including times to datetimes, member_gender to categories and add age."
   ]
  },
  {
   "cell_type": "markdown",
   "metadata": {
    "slideshow": {
     "slide_type": "slide"
    }
   },
   "source": [
    "## Code"
   ]
  },
  {
   "cell_type": "code",
   "execution_count": null,
   "metadata": {
    "slideshow": {
     "slide_type": "subslide"
    }
   },
   "outputs": [],
   "source": [
    "#changing data type of start_time to datetime.\n",
    "df.start_time = pd.to_datetime(df.start_time)"
   ]
  },
  {
   "cell_type": "code",
   "execution_count": null,
   "metadata": {
    "slideshow": {
     "slide_type": "subslide"
    }
   },
   "outputs": [],
   "source": [
    "#changing data type of end_time to datetime.\n",
    "df.end_time = pd.to_datetime(df.end_time)"
   ]
  },
  {
   "cell_type": "code",
   "execution_count": null,
   "metadata": {
    "slideshow": {
     "slide_type": "subslide"
    }
   },
   "outputs": [],
   "source": [
    "#change gender to category type\n",
    "df.member_gender = df.member_gender.astype('category')"
   ]
  },
  {
   "cell_type": "code",
   "execution_count": null,
   "metadata": {
    "slideshow": {
     "slide_type": "subslide"
    }
   },
   "outputs": [],
   "source": [
    "#Create column for user's age\n",
    "df['Age']=2020 - df['member_birth_year']"
   ]
  },
  {
   "cell_type": "markdown",
   "metadata": {
    "slideshow": {
     "slide_type": "slide"
    }
   },
   "source": [
    "## Test"
   ]
  },
  {
   "cell_type": "code",
   "execution_count": null,
   "metadata": {
    "slideshow": {
     "slide_type": "subslide"
    }
   },
   "outputs": [],
   "source": [
    "df.info()"
   ]
  },
  {
   "cell_type": "markdown",
   "metadata": {
    "slideshow": {
     "slide_type": "slide"
    }
   },
   "source": [
    "## Define\n"
   ]
  },
  {
   "cell_type": "markdown",
   "metadata": {
    "slideshow": {
     "slide_type": "subslide"
    }
   },
   "source": [
    "Using only appropriate age ranges."
   ]
  },
  {
   "cell_type": "markdown",
   "metadata": {
    "slideshow": {
     "slide_type": "slide"
    }
   },
   "source": [
    "## code"
   ]
  },
  {
   "cell_type": "code",
   "execution_count": null,
   "metadata": {
    "slideshow": {
     "slide_type": "subslide"
    }
   },
   "outputs": [],
   "source": [
    "df['Age'].max()"
   ]
  },
  {
   "cell_type": "code",
   "execution_count": null,
   "metadata": {
    "slideshow": {
     "slide_type": "subslide"
    }
   },
   "outputs": [],
   "source": [
    "df['Age'].min()"
   ]
  },
  {
   "cell_type": "code",
   "execution_count": null,
   "metadata": {
    "slideshow": {
     "slide_type": "subslide"
    }
   },
   "outputs": [],
   "source": [
    "df_age_abnormal = df[df['Age'] > 80]\n",
    "df_age_abnormal"
   ]
  },
  {
   "cell_type": "code",
   "execution_count": null,
   "metadata": {
    "slideshow": {
     "slide_type": "subslide"
    }
   },
   "outputs": [],
   "source": [
    "df = df.drop(df_age_abnormal.index, axis=0)"
   ]
  },
  {
   "cell_type": "markdown",
   "metadata": {
    "slideshow": {
     "slide_type": "slide"
    }
   },
   "source": [
    "## Test"
   ]
  },
  {
   "cell_type": "code",
   "execution_count": null,
   "metadata": {
    "slideshow": {
     "slide_type": "subslide"
    }
   },
   "outputs": [],
   "source": [
    "df.shape"
   ]
  },
  {
   "cell_type": "markdown",
   "metadata": {
    "slideshow": {
     "slide_type": "slide"
    }
   },
   "source": [
    "### What is the structure of your dataset?\n",
    "\n",
    "> The dataset includes 183412 fordgobike trips with 17 features (duration_sec, start_time, end_time, start_station_id, start_station_name, start_station_latitude, start_station_longitude, end_station_id, end_station_name, end_station_latitude ,end_station_longitude, bike_id, user_type, member_birth_year, member_gender, bike_share_for_all_trip,Age).\n",
    "\n",
    "\n",
    "### What is/are the main feature(s) of interest in your dataset?\n",
    "\n",
    "> I'm interested in What is the average duration of trips and does the age and gender has an impact on the duration of the trip?\n",
    "\n",
    "\n",
    "\n",
    "### What features in the dataset do you think will help support your investigation into your feature(s) of interest?\n",
    "\n",
    "> Trip Duration (seconds),member_gender and member_birth_year(age) ."
   ]
  },
  {
   "cell_type": "markdown",
   "metadata": {
    "slideshow": {
     "slide_type": "slide"
    }
   },
   "source": [
    "## Univariate Exploration\n",
    "\n",
    "> In this section, investigate distributions of individual variables."
   ]
  },
  {
   "cell_type": "code",
   "execution_count": null,
   "metadata": {
    "slideshow": {
     "slide_type": "subslide"
    }
   },
   "outputs": [],
   "source": [
    "# Here we plot the distribution of trip durations.\n",
    "\n",
    "bins = np.arange(0, df['duration_sec'].max() + 100 , 100)\n",
    "plt.hist(data = df , x = 'duration_sec' , bins = bins)\n",
    "plt.xlim(0,5000)\n",
    "plt.title('Distribution of various Trip Duration(s)')\n",
    "plt.xlabel('Duration in Seconds')\n",
    "plt.ylabel('Frequency')"
   ]
  },
  {
   "cell_type": "markdown",
   "metadata": {
    "slideshow": {
     "slide_type": "subslide"
    }
   },
   "source": [
    ">We note that measuring the duration of the trip in seconds, so we will make some changes and convert the \"duration -second\" to \"duration-minutes\""
   ]
  },
  {
   "cell_type": "code",
   "execution_count": null,
   "metadata": {
    "slideshow": {
     "slide_type": "subslide"
    }
   },
   "outputs": [],
   "source": [
    "#convert the \"duration -second\" to \"duration-minutes\"\n",
    "df['duration_min'] = df['duration_sec'] / 60\n",
    "df.drop('duration_sec' , axis = 1 , inplace = True)"
   ]
  },
  {
   "cell_type": "code",
   "execution_count": null,
   "metadata": {
    "slideshow": {
     "slide_type": "subslide"
    }
   },
   "outputs": [],
   "source": [
    "bins = np.arange(0, df['duration_min'].max() + 100 , 100)\n",
    "plt.hist(data = df , x = 'duration_min' , bins = bins)\n",
    "plt.xlim(0,5000)\n",
    "plt.title('Distribution of various Trip Duration(s)')\n",
    "plt.xlabel('Duration in minutes')\n",
    "plt.ylabel('Frequency')"
   ]
  },
  {
   "cell_type": "markdown",
   "metadata": {
    "slideshow": {
     "slide_type": "subslide"
    }
   },
   "source": [
    ">There is a long tail in the distribution so lets put it on log scale"
   ]
  },
  {
   "cell_type": "code",
   "execution_count": null,
   "metadata": {
    "slideshow": {
     "slide_type": "subslide"
    }
   },
   "outputs": [],
   "source": [
    "bins = 10**np.arange(0 , 3+0.1 , 0.1)\n",
    "ticks =  [ 0.1 , 0.3 , 1 , 3, 10, 30, 100, 300]\n",
    "labels = ['{}'.format(v) for v in ticks]\n",
    "plt.hist(data = df , x = 'duration_min' , bins = bins);\n",
    "plt.xticks(ticks,labels);\n",
    "plt.title('Distribution of various Trip Duration')\n",
    "plt.xlabel('Duration in Minutes');\n",
    "plt.ylabel('Frequency')\n",
    "plt.xscale('log');"
   ]
  },
  {
   "cell_type": "markdown",
   "metadata": {
    "slideshow": {
     "slide_type": "subslide"
    }
   },
   "source": [
    ">As we can easily understand from the above plot, most people prefer to use bikes for short-term trips (around 10 mins)."
   ]
  },
  {
   "cell_type": "code",
   "execution_count": null,
   "metadata": {
    "slideshow": {
     "slide_type": "subslide"
    }
   },
   "outputs": [],
   "source": [
    "# plotting genders on bar.\n",
    "plt.figure(figsize=[8,5])\n",
    "plt.bar(x = df.Age.value_counts().keys(), height = df.Age.value_counts() )\n",
    "plt.title('Distribution of User Age')\n",
    "plt.xlabel('Age (years)')\n",
    "plt.ylabel('Number of Users')\n",
    "plt.show()"
   ]
  },
  {
   "cell_type": "markdown",
   "metadata": {
    "slideshow": {
     "slide_type": "subslide"
    }
   },
   "source": [
    ">We note that most of the ages are 33 years old."
   ]
  },
  {
   "cell_type": "code",
   "execution_count": null,
   "metadata": {
    "slideshow": {
     "slide_type": "subslide"
    }
   },
   "outputs": [],
   "source": [
    "sb.countplot(data = df, x = 'member_gender')\n",
    "plt.title(\"Gender Count\", fontsize=20, y=1.07)\n",
    "plt.xlabel('Gender')\n",
    "plt.ylabel('Number of member');"
   ]
  },
  {
   "cell_type": "markdown",
   "metadata": {
    "slideshow": {
     "slide_type": "subslide"
    }
   },
   "source": [
    ">We notice that most of the members are male."
   ]
  },
  {
   "cell_type": "markdown",
   "metadata": {
    "slideshow": {
     "slide_type": "subslide"
    }
   },
   "source": [
    "### Discuss the distribution(s) of your variable(s) of interest. Were there any unusual points? Did you need to perform any transformations?\n",
    "\n",
    "> This dataset required some conversions in order to match my goals. I converted duration -second\" to \"duration-minutes\" and member_gender to categories. also create column for users age .\n",
    "\n",
    "### Of the features you investigated, were there any unusual distributions? Did you perform any operations on the data to tidy, adjust, or change the form of the data? If so, why did you do this?\n",
    "\n",
    "> Obviously, some years of birth were wrong, as it was a maximum of 142 years old, including me removing some ages over 80."
   ]
  },
  {
   "cell_type": "markdown",
   "metadata": {
    "slideshow": {
     "slide_type": "slide"
    }
   },
   "source": [
    "## Bivariate Exploration\n",
    "\n",
    "> In this section, investigate relationships between pairs of variables in your\n",
    "data. "
   ]
  },
  {
   "cell_type": "code",
   "execution_count": null,
   "metadata": {
    "slideshow": {
     "slide_type": "subslide"
    }
   },
   "outputs": [],
   "source": [
    "plt.figure(figsize=[8,5])\n",
    "plt.scatter( df['Age'], df['duration_min'], alpha = 0.25, marker = '.' )\n",
    "plt.axis([-5, 145, 200, 1000])\n",
    "plt.xlabel('Age (years)')\n",
    "plt.ylabel('Duaration (sec)')\n",
    "plt.show()"
   ]
  },
  {
   "cell_type": "code",
   "execution_count": null,
   "metadata": {
    "slideshow": {
     "slide_type": "subslide"
    }
   },
   "outputs": [],
   "source": [
    "plt.figure(figsize=[12,5])\n",
    "\n",
    "plt.subplot(1, 2, 1)\n",
    "plt.scatter(df['Age'], df['duration_min'], alpha = 0.25, marker = '.' )\n",
    "plt.axis([-1, 55, 300, 2500])\n",
    "plt.xlabel('Age (years)')\n",
    "plt.ylabel('Duaration (sec)')\n",
    "\n",
    "plt.subplot(1, 2, 2)\n",
    "bins_y = np.arange(500, 2500+1, 500)\n",
    "bins_x = np.arange(-5, 85+1, 10)\n",
    "plt.hist2d(df['Age'], df['duration_min'],\n",
    "           bins = [bins_x, bins_y])\n",
    "plt.colorbar(ticks=[10000, 20000, 30000, 40000]);\n",
    "plt.show()"
   ]
  },
  {
   "cell_type": "code",
   "execution_count": null,
   "metadata": {
    "slideshow": {
     "slide_type": "subslide"
    }
   },
   "outputs": [],
   "source": [
    "plt.figure(figsize = [8, 5])\n",
    "base_color = sb.color_palette()[1]\n",
    "sb.boxplot(data = df, x = 'member_gender', y = 'duration_min', color = base_color)\n",
    "plt.ylim([-10, 200])\n",
    "plt.xlabel('Gender')\n",
    "plt.ylabel('Duration min')\n",
    "plt.show()"
   ]
  },
  {
   "cell_type": "markdown",
   "metadata": {
    "slideshow": {
     "slide_type": "subslide"
    }
   },
   "source": [
    "### Talk about some of the relationships you observed in this part of the investigation. How did the feature(s) of interest vary with other features in the dataset?\n",
    "\n",
    "> I did not expect, the duration of the flight depends greatly on the age of the member, and I have found a great dependency between them.\n",
    "\n",
    "### Did you observe any interesting relationships between the other features (not the main feature(s) of interest)?\n",
    "\n",
    "> I expected categorical variables such as gender values with higher value to have higher trip duration, but the value of male members is very high, but the percentage of female members to take longer trips is higher."
   ]
  },
  {
   "cell_type": "markdown",
   "metadata": {
    "slideshow": {
     "slide_type": "slide"
    }
   },
   "source": [
    "## Multivariate Exploration\n",
    "\n",
    ">I will analyze the distributions  is how the  categorical measures gender and age play into the relationship trip duration.\n",
    "\n"
   ]
  },
  {
   "cell_type": "code",
   "execution_count": null,
   "metadata": {
    "scrolled": true,
    "slideshow": {
     "slide_type": "subslide"
    }
   },
   "outputs": [],
   "source": [
    "df['age']=2020-df['member_birth_year']\n",
    "g = sb.FacetGrid(data =  df, hue = 'member_gender', height = 8)\n",
    "g.map(plt.scatter, 'age','duration_min', alpha = 1/3)\n",
    "g.add_legend()\n",
    "plt.title('Trip Duration(min) Against age and gender type')\n",
    "plt.xlabel('Age (year)')\n",
    "plt.ylabel('Trip Duration(min)');"
   ]
  },
  {
   "cell_type": "code",
   "execution_count": null,
   "metadata": {
    "slideshow": {
     "slide_type": "subslide"
    }
   },
   "outputs": [],
   "source": [
    "g = sb.FacetGrid(data = df, col = 'member_gender', col_wrap = 2, size = 5,\n",
    "                 xlim = [20, 100], ylim = [-100, 3000])\n",
    "g.map(plt.scatter, 'age', 'duration_min', alpha=1/3)\n",
    "g.set_xlabels('Age (year)')\n",
    "g.set_ylabels('Duration (min)')\n",
    "\n",
    "plt.show()"
   ]
  },
  {
   "cell_type": "code",
   "execution_count": null,
   "metadata": {
    "slideshow": {
     "slide_type": "subslide"
    }
   },
   "outputs": [],
   "source": [
    "plt.figure(figsize=(15,8))\n",
    "ax = sb.pointplot(x='Age', y='duration_min', hue='member_gender', scale=.6, data=df)\n",
    "plt.title('Trip Duration(min) Against age and gender type', fontsize=22, y=1.015)\n",
    "plt.xlabel('Age', labelpad=16)\n",
    "plt.ylabel('Duration(min)', labelpad=16)\n",
    "leg = ax.legend()\n",
    "leg.set_title('Gender',prop={'size':16})\n",
    "ax = plt.gca();"
   ]
  },
  {
   "cell_type": "markdown",
   "metadata": {
    "slideshow": {
     "slide_type": "subslide"
    }
   },
   "source": [
    "### Talk about some of the relationships you observed in this part of the investigation. Were there features that strengthened each other in terms of looking at your feature(s) of interest?\n",
    "\n",
    "> Here we observed that though the number of higher duration trip is higher for male but percentage is higher for women and other.\n",
    "\n",
    "### Were there any interesting or surprising interactions between features?\n",
    "\n",
    "> It was interesting to note that \"other gender\"group had the most outliers in the data, as well as ages over 50 years.\n"
   ]
  },
  {
   "cell_type": "code",
   "execution_count": null,
   "metadata": {},
   "outputs": [],
   "source": [
    "!jupyter nbconvert exploration_batoul.ipynb --to slides --post serve"
   ]
  },
  {
   "cell_type": "code",
   "execution_count": null,
   "metadata": {},
   "outputs": [],
   "source": []
  }
 ],
 "metadata": {
  "celltoolbar": "Slideshow",
  "kernelspec": {
   "display_name": "Python 3",
   "language": "python",
   "name": "python3"
  },
  "language_info": {
   "codemirror_mode": {
    "name": "ipython",
    "version": 3
   },
   "file_extension": ".py",
   "mimetype": "text/x-python",
   "name": "python",
   "nbconvert_exporter": "python",
   "pygments_lexer": "ipython3",
   "version": "3.7.4"
  }
 },
 "nbformat": 4,
 "nbformat_minor": 2
}
